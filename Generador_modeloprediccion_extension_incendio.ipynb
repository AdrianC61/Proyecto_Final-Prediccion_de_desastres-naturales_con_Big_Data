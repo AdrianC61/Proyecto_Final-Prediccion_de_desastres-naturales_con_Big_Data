{
 "cells": [
  {
   "cell_type": "code",
   "execution_count": 1,
   "id": "2e26ae29-8db2-4150-93d4-bdf44979a360",
   "metadata": {},
   "outputs": [
    {
     "name": "stdout",
     "output_type": "stream",
     "text": [
      "✅ Modelo guardado como 'modelo_prediccion_extension_incendio.pkl'\n"
     ]
    }
   ],
   "source": [
    "import pandas as pd\n",
    "from sklearn.model_selection import train_test_split\n",
    "from sklearn.ensemble import RandomForestRegressor\n",
    "import joblib\n",
    "import numpy as np\n",
    "\n",
    "# Cargar dataset\n",
    "df = pd.read_csv(\"Incendios\\\\incendios_completado.csv\")\n",
    "\n",
    "# Crear columna de mes\n",
    "df['mes'] = pd.to_datetime(df['fecha']).dt.month\n",
    "\n",
    "# Variables predictoras\n",
    "features = ['temp', 'tmin', 'tmax', 'prcp', 'wspd', 'pres', 'hum',\n",
    "            'time_ctrl', 'time_ext', 'personal', 'medios', 'mes']\n",
    "\n",
    "# Limpiar datos (quitar NaNs o valores no numéricos)\n",
    "df = df.dropna(subset=features + ['superficie'])\n",
    "X = df[features]\n",
    "y = df['superficie']\n",
    "\n",
    "# Dividir datos\n",
    "X_train, X_test, y_train, y_test = train_test_split(\n",
    "    X, y, test_size=0.2, random_state=42\n",
    ")\n",
    "\n",
    "# Entrenar modelo\n",
    "reg = RandomForestRegressor(n_estimators=100, random_state=42)\n",
    "reg.fit(X_train, y_train)\n",
    "\n",
    "# Predecir\n",
    "y_pred = reg.predict(X_test)\n",
    "\n",
    "# Guardar el modelo Random Forest\n",
    "joblib.dump(reg, \"Incendios\\\\modelo_prediccion_extension_incendio2.pkl\")\n",
    "\n",
    "print(\"✅ Modelo guardado como 'modelo_prediccion_extension_incendio.pkl'\")"
   ]
  }
 ],
 "metadata": {
  "kernelspec": {
   "display_name": "base",
   "language": "python",
   "name": "python3"
  },
  "language_info": {
   "codemirror_mode": {
    "name": "ipython",
    "version": 3
   },
   "file_extension": ".py",
   "mimetype": "text/x-python",
   "name": "python",
   "nbconvert_exporter": "python",
   "pygments_lexer": "ipython3",
   "version": "3.12.7"
  }
 },
 "nbformat": 4,
 "nbformat_minor": 5
}
