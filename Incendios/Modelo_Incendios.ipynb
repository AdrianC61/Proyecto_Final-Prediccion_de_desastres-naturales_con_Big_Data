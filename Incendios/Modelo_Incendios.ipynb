{
 "cells": [
  {
   "cell_type": "code",
   "execution_count": 1,
   "id": "4e6ab34e-5482-47dd-aeec-c33466d30e9c",
   "metadata": {},
   "outputs": [],
   "source": [
    "import pandas as pd\n",
    "\n",
    "# Cargar el dataset\n",
    "df = pd.read_csv(\"incendios_completo.csv\")\n",
    "\n",
    "# Crear la variable objetivo: incendio catastrófico (1 si superficie >= 500 ha)\n",
    "df['catastrico'] = (df['superficie'] >= 500).astype(int)\n",
    "\n",
    "# Seleccionar variables de entrada\n",
    "features = ['temp', 'tmin', 'tmax', 'prcp', 'wspd', 'pres', 'hum']\n",
    "\n",
    "X = df[features]\n",
    "y = df['catastrico']\n"
   ]
  },
  {
   "cell_type": "code",
   "execution_count": 2,
   "id": "837aad08-9466-48dd-a28f-3a9c959bb9e1",
   "metadata": {},
   "outputs": [
    {
     "name": "stdout",
     "output_type": "stream",
     "text": [
      "[[46246     5]\n",
      " [  274     2]]\n",
      "              precision    recall  f1-score   support\n",
      "\n",
      "           0       0.99      1.00      1.00     46251\n",
      "           1       0.29      0.01      0.01       276\n",
      "\n",
      "    accuracy                           0.99     46527\n",
      "   macro avg       0.64      0.50      0.51     46527\n",
      "weighted avg       0.99      0.99      0.99     46527\n",
      "\n"
     ]
    }
   ],
   "source": [
    "from sklearn.model_selection import train_test_split\n",
    "from sklearn.ensemble import RandomForestClassifier\n",
    "from sklearn.metrics import classification_report, confusion_matrix\n",
    "\n",
    "# Dividir en entrenamiento y test\n",
    "X_train, X_test, y_train, y_test = train_test_split(X, y, test_size=0.2, random_state=42)\n",
    "\n",
    "# Entrenar modelo Random Forest\n",
    "clf = RandomForestClassifier(n_estimators=100, random_state=42)\n",
    "clf.fit(X_train, y_train)\n",
    "\n",
    "# Predecir y evaluar\n",
    "y_pred = clf.predict(X_test)\n",
    "print(confusion_matrix(y_test, y_pred))\n",
    "print(classification_report(y_test, y_pred))\n"
   ]
  },
  {
   "cell_type": "code",
   "execution_count": 3,
   "id": "4cbf1c66-6710-4166-be8f-31ef8d8ebd6a",
   "metadata": {},
   "outputs": [
    {
     "data": {
      "text/plain": [
       "catastrico\n",
       "0    0.994102\n",
       "1    0.005898\n",
       "Name: proportion, dtype: float64"
      ]
     },
     "execution_count": 3,
     "metadata": {},
     "output_type": "execute_result"
    }
   ],
   "source": [
    "df['catastrico'].value_counts(normalize=True)"
   ]
  },
  {
   "cell_type": "code",
   "execution_count": 4,
   "id": "dffdcea1-b742-4e94-89d0-8d42be0a06a6",
   "metadata": {},
   "outputs": [],
   "source": [
    "from sklearn.metrics import classification_report, confusion_matrix\n",
    "\n",
    "def evaluar_modelo(y_test, y_pred):\n",
    "    print(\"Confusion matrix:\")\n",
    "    print(confusion_matrix(y_test, y_pred))\n",
    "    print(\"\\nClassification report:\")\n",
    "    print(classification_report(y_test, y_pred, digits=3))\n"
   ]
  },
  {
   "cell_type": "code",
   "execution_count": 5,
   "id": "064b4a47-1581-42b8-ad45-8925ea40f212",
   "metadata": {},
   "outputs": [
    {
     "name": "stdout",
     "output_type": "stream",
     "text": [
      "Distribución clases en entrenamiento:\n",
      "catastrico\n",
      "0    184188\n",
      "1      1094\n",
      "Name: count, dtype: int64\n",
      "Distribución después de SMOTE:\n",
      "catastrico\n",
      "0    184188\n",
      "1    184188\n",
      "Name: count, dtype: int64\n",
      "🔍 Matriz de confusión:\n",
      "[[46126   127]\n",
      " [  267     7]]\n",
      "\n",
      "📊 Reporte de clasificación:\n",
      "              precision    recall  f1-score   support\n",
      "\n",
      "           0      0.994     0.997     0.996     46253\n",
      "           1      0.052     0.026     0.034       274\n",
      "\n",
      "    accuracy                          0.992     46527\n",
      "   macro avg      0.523     0.511     0.515     46527\n",
      "weighted avg      0.989     0.992     0.990     46527\n",
      "\n"
     ]
    }
   ],
   "source": [
    "import pandas as pd\n",
    "from sklearn.model_selection import train_test_split\n",
    "from sklearn.ensemble import RandomForestClassifier\n",
    "from sklearn.metrics import classification_report, confusion_matrix\n",
    "from imblearn.over_sampling import SMOTE\n",
    "\n",
    "# Cargar datos\n",
    "df = pd.read_csv(\"incendios_completo.csv\")\n",
    "\n",
    "# Crear variable objetivo\n",
    "df['catastrico'] = (df['superficie'] >= 500).astype(int)\n",
    "\n",
    "# Variables predictoras\n",
    "features = ['temp', 'tmin', 'tmax', 'prcp', 'wspd', 'pres', 'hum']\n",
    "X = df[features]\n",
    "y = df['catastrico']\n",
    "\n",
    "# Dividir datos en entrenamiento y test\n",
    "X_train, X_test, y_train, y_test = train_test_split(\n",
    "    X, y, test_size=0.2, random_state=42, stratify=y\n",
    ")\n",
    "\n",
    "# 1. Eliminar NaNs\n",
    "X_train = X_train.dropna()\n",
    "y_train = y_train.loc[X_train.index]\n",
    "\n",
    "# 2. Asegurar tipo numérico\n",
    "X_train = X_train.astype(float)\n",
    "\n",
    "# 3. Confirmar que ambas clases existen\n",
    "print(\"Distribución clases en entrenamiento:\")\n",
    "print(y_train.value_counts())\n",
    "\n",
    "from imblearn.over_sampling import SMOTE\n",
    "smote = SMOTE(random_state=42, k_neighbors=1)\n",
    "X_train_bal, y_train_bal = smote.fit_resample(X_train, y_train)\n",
    "\n",
    "# Confirmar nuevo balance\n",
    "print(\"Distribución después de SMOTE:\")\n",
    "print(y_train_bal.value_counts())\n",
    "\n",
    "# Entrenar modelo\n",
    "clf = RandomForestClassifier(n_estimators=100, random_state=42)\n",
    "clf.fit(X_train_bal, y_train_bal)\n",
    "\n",
    "# Predecir en conjunto de prueba (original)\n",
    "y_pred = clf.predict(X_test)\n",
    "\n",
    "# Evaluar resultados\n",
    "print(\"🔍 Matriz de confusión:\")\n",
    "print(confusion_matrix(y_test, y_pred))\n",
    "print(\"\\n📊 Reporte de clasificación:\")\n",
    "print(classification_report(y_test, y_pred, digits=3))\n"
   ]
  },
  {
   "cell_type": "code",
   "execution_count": 6,
   "id": "a55eeda1-ac96-478b-8762-402e7a8f3001",
   "metadata": {},
   "outputs": [
    {
     "data": {
      "image/png": "[encoded data removed]",
      "text/plain": [
       "<Figure size 640x480 with 1 Axes>"
      ]
     },
     "metadata": {},
     "output_type": "display_data"
    }
   ],
   "source": [
    "import matplotlib.pyplot as plt\n",
    "\n",
    "plt.bar(['No Catastrófico', 'Catastrófico'], y_train.value_counts(), label=\"Antes\")\n",
    "plt.bar(['No Catastrófico', 'Catastrófico'], y_train_bal.value_counts(), alpha=0.6, label=\"Después (SMOTE)\")\n",
    "plt.title(\"Distribución de clases antes y después de SMOTE\")\n",
    "plt.legend()\n",
    "plt.show()"
   ]
  },
  {
   "cell_type": "code",
   "execution_count": 7,
   "id": "59e8d726-34ab-4446-a1c9-6f11aa988475",
   "metadata": {},
   "outputs": [
    {
     "name": "stdout",
     "output_type": "stream",
     "text": [
      "📊 Evaluación del modelo de regresión:\n",
      "MAE  (Error absoluto medio):     22.55 ha\n",
      "RMSE (Raíz error cuadrático):    157.37 ha\n",
      "R²   (Coeficiente de determinación): 0.057\n"
     ]
    }
   ],
   "source": [
    "import pandas as pd\n",
    "from sklearn.model_selection import train_test_split\n",
    "from sklearn.ensemble import RandomForestRegressor\n",
    "from sklearn.metrics import mean_squared_error, mean_absolute_error, r2_score\n",
    "import numpy as np\n",
    "\n",
    "# Cargar dataset\n",
    "df = pd.read_csv(\"incendios_completo.csv\")\n",
    "\n",
    "# Crear columna de mes\n",
    "df['mes'] = pd.to_datetime(df['fecha']).dt.month\n",
    "\n",
    "# Variables predictoras\n",
    "features = ['temp', 'tmin', 'tmax', 'prcp', 'wspd', 'pres', 'hum',\n",
    "            'time_ctrl', 'time_ext', 'personal', 'medios', 'mes']\n",
    "\n",
    "# Limpiar datos (quitar NaNs o valores no numéricos)\n",
    "df = df.dropna(subset=features + ['superficie'])\n",
    "X = df[features]\n",
    "y = df['superficie']\n",
    "\n",
    "# Dividir datos\n",
    "X_train, X_test, y_train, y_test = train_test_split(\n",
    "    X, y, test_size=0.2, random_state=42\n",
    ")\n",
    "\n",
    "# Entrenar modelo\n",
    "reg = RandomForestRegressor(n_estimators=100, random_state=42)\n",
    "reg.fit(X_train, y_train)\n",
    "\n",
    "# Predecir\n",
    "y_pred = reg.predict(X_test)\n",
    "\n",
    "# Evaluar\n",
    "print(\"📊 Evaluación del modelo de regresión:\")\n",
    "print(f\"MAE  (Error absoluto medio):     {mean_absolute_error(y_test, y_pred):.2f} ha\")\n",
    "rmse = np.sqrt(mean_squared_error(y_test, y_pred))\n",
    "print(f\"RMSE (Raíz error cuadrático):    {rmse:.2f} ha\")\n",
    "print(f\"R²   (Coeficiente de determinación): {r2_score(y_test, y_pred):.3f}\")"
   ]
  },
  {
   "cell_type": "code",
   "execution_count": 8,
   "id": "93e891d8-a64c-41bd-8b87-c9ed99bc7f25",
   "metadata": {},
   "outputs": [
    {
     "name": "stdout",
     "output_type": "stream",
     "text": [
      "✅ Modelo guardado como 'modelo_prediccion_magn_incendio.pkl'\n"
     ]
    }
   ],
   "source": [
    "import joblib\n",
    "\n",
    "# Guardar el modelo Random Forest\n",
    "joblib.dump(reg, \"modelo_prediccion_magn_incendio.pkl\")\n",
    "\n",
    "print(\"✅ Modelo guardado como 'modelo_prediccion_magn_incendio.pkl'\")"
   ]
  },
  {
   "cell_type": "code",
   "execution_count": null,
   "id": "1105b10b-83a4-4379-9ec0-ee4a2b901cdf",
   "metadata": {},
   "outputs": [],
   "source": []
  }
 ],
 "metadata": {
  "kernelspec": {
   "display_name": "Python 3 (ipykernel)",
   "language": "python",
   "name": "python3"
  },
  "language_info": {
   "codemirror_mode": {
    "name": "ipython",
    "version": 3
   },
   "file_extension": ".py",
   "mimetype": "text/x-python",
   "name": "python",
   "nbconvert_exporter": "python",
   "pygments_lexer": "ipython3",
   "version": "3.12.9"
  }
 },
 "nbformat": 4,
 "nbformat_minor": 5
}
